{
 "cells": [
  {
   "cell_type": "markdown",
   "id": "420142ad",
   "metadata": {},
   "source": [
    "# 1. Why are functions advantageous to have in your programs?"
   ]
  },
  {
   "cell_type": "markdown",
   "id": "f3cbab8e",
   "metadata": {},
   "source": [
    "Ans: A function is a block of reusable code. The advantages of using functions are reducing duplication of code."
   ]
  },
  {
   "cell_type": "markdown",
   "id": "829d9206",
   "metadata": {},
   "source": [
    "# 2. When does the code in a function run: when it's specified or when it's called?"
   ]
  },
  {
   "cell_type": "markdown",
   "id": "3ded3262",
   "metadata": {},
   "source": [
    "Ans: code in the function run when it is called."
   ]
  },
  {
   "cell_type": "markdown",
   "id": "5cbae970",
   "metadata": {},
   "source": [
    "# 3. What statement creates a function?"
   ]
  },
  {
   "cell_type": "markdown",
   "id": "52c00058",
   "metadata": {},
   "source": [
    "Ans: def statement creates a function.\n",
    "    \n",
    "     example: def fun():   \n",
    "                pass"
   ]
  },
  {
   "cell_type": "markdown",
   "id": "5c8d5004",
   "metadata": {},
   "source": [
    "# 4. What is the difference between a function and a function call?"
   ]
  },
  {
   "cell_type": "code",
   "execution_count": 5,
   "id": "1b963463",
   "metadata": {},
   "outputs": [],
   "source": [
    "def func(): #function\n",
    "    pass\n",
    "func() #calling of function"
   ]
  },
  {
   "cell_type": "markdown",
   "id": "17291eaa",
   "metadata": {},
   "source": [
    "A function consists of the def statement and the code in its def clause.\n",
    "\n",
    "The function call evaluates to the function's return value."
   ]
  },
  {
   "cell_type": "markdown",
   "id": "e79c0983",
   "metadata": {},
   "source": [
    "# 5. How many global scopes are there in a Python program? How many local scopes?"
   ]
  },
  {
   "cell_type": "markdown",
   "id": "9c8a90ab",
   "metadata": {},
   "source": [
    "Ans: There's only one global Python scope per program execution and local scope is created whenever a function is called."
   ]
  },
  {
   "cell_type": "markdown",
   "id": "b4e6f241",
   "metadata": {},
   "source": [
    "# 6. What happens to variables in a local scope when the function call returns?"
   ]
  },
  {
   "cell_type": "markdown",
   "id": "33773b28",
   "metadata": {},
   "source": [
    "Ans: After function call returns, the local scope is destroyed."
   ]
  },
  {
   "cell_type": "markdown",
   "id": "64068357",
   "metadata": {},
   "source": [
    "# 7. What is the concept of a return value? Is it possible to have a return value in an expression?"
   ]
  },
  {
   "cell_type": "markdown",
   "id": "a76b5bfe",
   "metadata": {},
   "source": [
    "A return is a value that a function returns to the calling script or function when it completes its task and it is possible to use return value in an expression."
   ]
  },
  {
   "cell_type": "code",
   "execution_count": 12,
   "id": "b356597e",
   "metadata": {},
   "outputs": [],
   "source": [
    "def fun():\n",
    "    return 'ineuron'"
   ]
  },
  {
   "cell_type": "code",
   "execution_count": 13,
   "id": "14ffd28a",
   "metadata": {},
   "outputs": [
    {
     "data": {
      "text/plain": [
       "'ineuron'"
      ]
     },
     "execution_count": 13,
     "metadata": {},
     "output_type": "execute_result"
    }
   ],
   "source": [
    "a = fun()\n",
    "a"
   ]
  },
  {
   "cell_type": "markdown",
   "id": "6d2719b8",
   "metadata": {},
   "source": [
    "# 8. If a function does not have a return statement, what is the return value of a call to that function?"
   ]
  },
  {
   "cell_type": "markdown",
   "id": "f7691665",
   "metadata": {},
   "source": [
    "Ans: If the funtion does not have any return statement it will not return anything."
   ]
  },
  {
   "cell_type": "markdown",
   "id": "2a662a62",
   "metadata": {},
   "source": [
    "# 9. How do you make a function variable refer to the global variable?"
   ]
  },
  {
   "cell_type": "markdown",
   "id": "0f375291",
   "metadata": {},
   "source": [
    "Ans: To make function variable as a global variable you can use the global keyword to declare local variable to global variable."
   ]
  },
  {
   "cell_type": "code",
   "execution_count": 19,
   "id": "8a18ec35",
   "metadata": {},
   "outputs": [
    {
     "name": "stdout",
     "output_type": "stream",
     "text": [
      "ineuron\n"
     ]
    }
   ],
   "source": [
    "def func():\n",
    "    global x\n",
    "    x = \"ron\"\n",
    "\n",
    "func()\n",
    "\n",
    "print(\"ineu\" + \"ron\")"
   ]
  },
  {
   "cell_type": "markdown",
   "id": "7a6bcf31",
   "metadata": {},
   "source": [
    "# 10. What is the data type of None?"
   ]
  },
  {
   "cell_type": "markdown",
   "id": "c1789e65",
   "metadata": {},
   "source": [
    "The data type of None in NoneType."
   ]
  },
  {
   "cell_type": "code",
   "execution_count": 22,
   "id": "49ef9695",
   "metadata": {},
   "outputs": [
    {
     "data": {
      "text/plain": [
       "NoneType"
      ]
     },
     "execution_count": 22,
     "metadata": {},
     "output_type": "execute_result"
    }
   ],
   "source": [
    "type(None)"
   ]
  },
  {
   "cell_type": "markdown",
   "id": "c9ed627f",
   "metadata": {},
   "source": [
    "# 11. What does the sentence import areallyourpetsnamederic do?"
   ]
  },
  {
   "cell_type": "markdown",
   "id": "6f02371e",
   "metadata": {},
   "source": [
    "It show a error ModuleNotFoundError."
   ]
  },
  {
   "cell_type": "code",
   "execution_count": 24,
   "id": "6f1106af",
   "metadata": {},
   "outputs": [
    {
     "ename": "ModuleNotFoundError",
     "evalue": "No module named 'areallyourpetsnamederic'",
     "output_type": "error",
     "traceback": [
      "\u001b[1;31m---------------------------------------------------------------------------\u001b[0m",
      "\u001b[1;31mModuleNotFoundError\u001b[0m                       Traceback (most recent call last)",
      "Input \u001b[1;32mIn [24]\u001b[0m, in \u001b[0;36m<cell line: 1>\u001b[1;34m()\u001b[0m\n\u001b[1;32m----> 1\u001b[0m \u001b[38;5;28;01mimport\u001b[39;00m \u001b[38;5;21;01mareallyourpetsnamederic\u001b[39;00m\n",
      "\u001b[1;31mModuleNotFoundError\u001b[0m: No module named 'areallyourpetsnamederic'"
     ]
    }
   ],
   "source": [
    "import areallyourpetsnamederic"
   ]
  },
  {
   "cell_type": "markdown",
   "id": "1bc6fab6",
   "metadata": {},
   "source": [
    "# 12. If you had a bacon() feature in a spam module, what would you call it after importing spam?"
   ]
  },
  {
   "cell_type": "markdown",
   "id": "4743c00e",
   "metadata": {},
   "source": [
    "Ans: import spam\n",
    "    \n",
    "    spam.bacon()"
   ]
  },
  {
   "cell_type": "markdown",
   "id": "16f4aeac",
   "metadata": {},
   "source": [
    "# 13. What can you do to save a programme from crashing if it encounters an error?"
   ]
  },
  {
   "cell_type": "markdown",
   "id": "594fa737",
   "metadata": {},
   "source": [
    "Ans: We can use try except clause to save a program from crashing."
   ]
  },
  {
   "cell_type": "markdown",
   "id": "d2a20e15",
   "metadata": {},
   "source": [
    "# 14. What is the purpose of the try clause? What is the purpose of the except clause?"
   ]
  },
  {
   "cell_type": "markdown",
   "id": "597cae60",
   "metadata": {},
   "source": [
    "Ans: The try and except block in Python is used to catch and handle exceptions. Python executes code following the try statement as a “normal” part of the program. The code that follows the except statement is the program's response to any exceptions in the preceding try clause."
   ]
  },
  {
   "cell_type": "code",
   "execution_count": 27,
   "id": "8e7ecea7",
   "metadata": {},
   "outputs": [],
   "source": [
    "try:\n",
    "    \"executed if no error occured\"\n",
    "except:\n",
    "    \"only run when any error occured in try block\""
   ]
  }
 ],
 "metadata": {
  "kernelspec": {
   "display_name": "Python 3 (ipykernel)",
   "language": "python",
   "name": "python3"
  },
  "language_info": {
   "codemirror_mode": {
    "name": "ipython",
    "version": 3
   },
   "file_extension": ".py",
   "mimetype": "text/x-python",
   "name": "python",
   "nbconvert_exporter": "python",
   "pygments_lexer": "ipython3",
   "version": "3.9.12"
  }
 },
 "nbformat": 4,
 "nbformat_minor": 5
}
